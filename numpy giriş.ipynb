{
 "cells": [
  {
   "cell_type": "code",
   "execution_count": 28,
   "id": "d3053678-1880-4ec3-86cd-f1cd67738486",
   "metadata": {},
   "outputs": [],
   "source": [
    "import numpy as np"
   ]
  },
  {
   "cell_type": "code",
   "execution_count": 29,
   "id": "fbbeb496-bda7-4981-bf06-6c99fdd0c032",
   "metadata": {},
   "outputs": [
    {
     "data": {
      "text/plain": [
       "array([[2, 2],\n",
       "       [1, 2]], dtype=int32)"
      ]
     },
     "execution_count": 29,
     "metadata": {},
     "output_type": "execute_result"
    }
   ],
   "source": [
    "arr = np.random.randint(1,10,size = (2,2))\n",
    "arr"
   ]
  },
  {
   "cell_type": "code",
   "execution_count": 30,
   "id": "f9b21b4d-a41e-4f07-964f-c2e530927ed5",
   "metadata": {},
   "outputs": [],
   "source": [
    "np.savetxt('arr.txt',arr)"
   ]
  },
  {
   "cell_type": "code",
   "execution_count": 31,
   "id": "4367d161-c332-4372-81bb-3e6f3d278264",
   "metadata": {},
   "outputs": [
    {
     "name": "stdout",
     "output_type": "stream",
     "text": [
      " Volume in drive C has no label.\n",
      " Volume Serial Number is F294-1CD1\n",
      "\n",
      " Directory of C:\\Users\\muhasebe\\Desktop\\Notebooks\n",
      "\n",
      "06.01.2025  19:12    <DIR>          .\n",
      "06.01.2025  19:12    <DIR>          ..\n",
      "06.01.2025  18:46    <DIR>          .ipynb_checkpoints\n",
      "06.01.2025  19:13               102 arr.txt\n",
      "06.01.2025  19:12             8.297 numpy giriŸ.ipynb\n",
      "17.12.2024  17:49             1.199 Untitled.ipynb\n",
      "17.12.2024  20:45             4.007 Untitled1.ipynb\n",
      "               4 File(s)         13.605 bytes\n",
      "               3 Dir(s)  117.529.911.296 bytes free\n"
     ]
    }
   ],
   "source": [
    "!dir"
   ]
  },
  {
   "cell_type": "code",
   "execution_count": 32,
   "id": "233560b0-867c-4b88-b3d9-0f2eba39576e",
   "metadata": {},
   "outputs": [
    {
     "data": {
      "text/plain": [
       "array([[2., 2.],\n",
       "       [1., 2.]])"
      ]
     },
     "execution_count": 32,
     "metadata": {},
     "output_type": "execute_result"
    }
   ],
   "source": [
    "arr2 = np.loadtxt('arr.txt')\n",
    "arr2"
   ]
  },
  {
   "cell_type": "code",
   "execution_count": 33,
   "id": "384e7df8-2f34-48ea-a8b4-5ece260b998f",
   "metadata": {},
   "outputs": [],
   "source": [
    "np.savetxt('arr.txt',arr)"
   ]
  },
  {
   "cell_type": "code",
   "execution_count": 34,
   "id": "9dd248d6-752e-4b14-b1f1-9aad548142f5",
   "metadata": {},
   "outputs": [
    {
     "name": "stdout",
     "output_type": "stream",
     "text": [
      " Volume in drive C has no label.\n",
      " Volume Serial Number is F294-1CD1\n",
      "\n",
      " Directory of C:\\Users\\muhasebe\\Desktop\\Notebooks\n",
      "\n",
      "06.01.2025  19:12    <DIR>          .\n",
      "06.01.2025  19:12    <DIR>          ..\n",
      "06.01.2025  18:46    <DIR>          .ipynb_checkpoints\n",
      "06.01.2025  19:13               102 arr.txt\n",
      "06.01.2025  19:12             8.297 numpy giriŸ.ipynb\n",
      "17.12.2024  17:49             1.199 Untitled.ipynb\n",
      "17.12.2024  20:45             4.007 Untitled1.ipynb\n",
      "               4 File(s)         13.605 bytes\n",
      "               3 Dir(s)  117.529.911.296 bytes free\n"
     ]
    }
   ],
   "source": [
    "!dir"
   ]
  },
  {
   "cell_type": "code",
   "execution_count": 35,
   "id": "c518cb08-002d-4d31-88f7-6e0f7ed97792",
   "metadata": {},
   "outputs": [
    {
     "data": {
      "text/plain": [
       "array([[2., 2.],\n",
       "       [1., 2.]])"
      ]
     },
     "execution_count": 35,
     "metadata": {},
     "output_type": "execute_result"
    }
   ],
   "source": [
    "arr2 = np.loadtxt('arr.txt')\n",
    "arr2"
   ]
  },
  {
   "cell_type": "code",
   "execution_count": 38,
   "id": "6f0ede0a-222b-433e-bb4c-45710c034278",
   "metadata": {},
   "outputs": [
    {
     "data": {
      "text/plain": [
       "(array([[3, 4],\n",
       "        [1, 8]], dtype=int32),\n",
       " array([[2, 3],\n",
       "        [8, 7]], dtype=int32),\n",
       " array([[6, 3],\n",
       "        [8, 1]], dtype=int32))"
      ]
     },
     "execution_count": 38,
     "metadata": {},
     "output_type": "execute_result"
    }
   ],
   "source": [
    "a,b,c = np.random.randint(1,10,size = (3,2,2))\n",
    "a,b,c"
   ]
  },
  {
   "cell_type": "code",
   "execution_count": 40,
   "id": "3c669e11-01dc-4ef9-acbf-f48748e370a4",
   "metadata": {},
   "outputs": [],
   "source": [
    "np.savez ('arrayler.npz',a,b,c)"
   ]
  },
  {
   "cell_type": "code",
   "execution_count": 41,
   "id": "664106b5-7cfd-4a4a-812a-84d7d81a5ef7",
   "metadata": {},
   "outputs": [
    {
     "data": {
      "text/plain": [
       "(array([[3, 4],\n",
       "        [1, 8]], dtype=int32),\n",
       " array([[2, 3],\n",
       "        [8, 7]], dtype=int32),\n",
       " array([[6, 3],\n",
       "        [8, 1]], dtype=int32))"
      ]
     },
     "execution_count": 41,
     "metadata": {},
     "output_type": "execute_result"
    }
   ],
   "source": [
    "npz = np.load('arrayler.npz')\n",
    "\n",
    "npz['arr_0'],npz['arr_1'],npz['arr_2']"
   ]
  },
  {
   "cell_type": "code",
   "execution_count": null,
   "id": "5d974d77-6e7e-44b7-b162-0006b8253245",
   "metadata": {},
   "outputs": [],
   "source": [
    "for i in npz:\n",
    "    "
   ]
  }
 ],
 "metadata": {
  "kernelspec": {
   "display_name": "Python 3 (ipykernel)",
   "language": "python",
   "name": "python3"
  },
  "language_info": {
   "codemirror_mode": {
    "name": "ipython",
    "version": 3
   },
   "file_extension": ".py",
   "mimetype": "text/x-python",
   "name": "python",
   "nbconvert_exporter": "python",
   "pygments_lexer": "ipython3",
   "version": "3.12.6"
  }
 },
 "nbformat": 4,
 "nbformat_minor": 5
}
