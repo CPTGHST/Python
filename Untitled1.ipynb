{
 "cells": [
  {
   "cell_type": "markdown",
   "id": "1c90fa1e-a931-4298-82bc-f8d3007c9557",
   "metadata": {},
   "source": [
    "# Markdown Uygulama Sınavı"
   ]
  },
  {
   "cell_type": "markdown",
   "id": "434d7283-5791-4150-bd06-daada52bea80",
   "metadata": {},
   "source": [
    "- Giriş\n",
    "- Temel Özellikler\n",
    "- İleri Düzey Uygulamalar"
   ]
  },
  {
   "cell_type": "markdown",
   "id": "ac9101ce-2ad1-428a-b5d0-72ae04b5d864",
   "metadata": {},
   "source": [
    "_Markdown_ **çok kullanışlı** bir araçtır"
   ]
  },
  {
   "attachments": {},
   "cell_type": "markdown",
   "id": "8612fc1c-0198-4774-8fab-0129fb409fef",
   "metadata": {},
   "source": [
    "(![images.jpg](https://cdnuploads.aa.com.tr/uploads/Contents/2015/03/10/thumbs_b_c_9061fb87e4e95aa8533354ba9657a12a.jpg))"
   ]
  },
  {
   "cell_type": "markdown",
   "id": "f5efc752-fa7b-437f-aa1c-e5b0c914f638",
   "metadata": {},
   "source": [
    "'''python \n",
    "print(\"Hello World!\")"
   ]
  },
  {
   "cell_type": "markdown",
   "id": "422033b6-2d96-4bd6-b8ce-e5f68a13a53f",
   "metadata": {},
   "source": [
    "'''C\n",
    "#include <stdio.h>\n",
    "\n",
    "void main(){\n",
    "    puts(\"Merhaba Dünya\");\n",
    "]"
   ]
  },
  {
   "cell_type": "markdown",
   "id": "1e15c340-a92d-4e67-95c4-36d690633e8d",
   "metadata": {},
   "source": [
    "***\n",
    "1\n",
    "---\n",
    "2\n",
    "___"
   ]
  },
  {
   "cell_type": "markdown",
   "id": "b3f39df2-2eb3-4c6c-8ad5-24eff05a8c40",
   "metadata": {},
   "source": [
    "\n",
    "1. İlk Madde\n",
    "    - Markdown 1\n",
    "    - Markdown 2\n",
    "2. İkinci Madde"
   ]
  },
  {
   "cell_type": "markdown",
   "id": "8a5220d5-1752-408a-8307-d047a4383174",
   "metadata": {},
   "source": [
    "Markdown öğrenmek ***'eğlencelidir'***"
   ]
  },
  {
   "cell_type": "code",
   "execution_count": null,
   "id": "1194b5fb-fdb9-4836-b436-55fa95b3ac95",
   "metadata": {},
   "outputs": [],
   "source": [
    "Ornek inline kullanımı : 'print(\"Hello World!\")"
   ]
  },
  {
   "cell_type": "markdown",
   "id": "611c89ac-8eb4-44a1-ab32-72ece23bdf67",
   "metadata": {},
   "source": [
    "- [x] ~my first task~\n",
    "- [ ] my second task"
   ]
  },
  {
   "cell_type": "markdown",
   "id": "0e2f53fc-ba31-4d7a-93b0-45fbe443e03e",
   "metadata": {},
   "source": [
    "|DERS ADİ|PUAN|\n",
    "|--------|---|\n",
    "|MATEMATİK|80|"
   ]
  },
  {
   "cell_type": "markdown",
   "id": "0531cc50-7d8c-4580-901b-96a14f1b8157",
   "metadata": {},
   "source": [
    " \\* Metin \\*"
   ]
  },
  {
   "cell_type": "markdown",
   "id": "0a92317c-9fcd-4736-87ee-124d6a5c21af",
   "metadata": {},
   "source": [
    "İlk Satır: \"Merhaba Markdown!\"\n",
    "  \n",
    "İkinci Satır: \"Markdown ile yazı yazmak kolaydır.\"  "
   ]
  },
  {
   "cell_type": "markdown",
   "id": "37a27137-364e-41e7-9940-4fc7fd4c98f9",
   "metadata": {},
   "source": [
    "- Ana Madde 1\n",
    "    - Alt Madde 1.1\n",
    "        - Alt Madde 1.1.1\n",
    "    - Alt Madde 1.2\n",
    "- Ana Madde 2"
   ]
  },
  {
   "cell_type": "markdown",
   "id": "c114b8f6-35b5-4ccf-91d4-ae0d41926864",
   "metadata": {},
   "source": [
    "[REFERANS 1][1]  \n",
    "[REFERANS 2][2]\n",
    "\n",
    "[1]: https://www.youtube.com/watch?v=9_rZgkvFGdA  \n",
    "[2]: https://www.youtube.com/watch?v=gsvKEyPzQSo"
   ]
  },
  {
   "cell_type": "code",
   "execution_count": null,
   "id": "608843dc-4d48-4065-9ea6-5350140c1f13",
   "metadata": {},
   "outputs": [],
   "source": []
  }
 ],
 "metadata": {
  "kernelspec": {
   "display_name": "Python 3 (ipykernel)",
   "language": "python",
   "name": "python3"
  },
  "language_info": {
   "codemirror_mode": {
    "name": "ipython",
    "version": 3
   },
   "file_extension": ".py",
   "mimetype": "text/x-python",
   "name": "python",
   "nbconvert_exporter": "python",
   "pygments_lexer": "ipython3",
   "version": "3.12.6"
  }
 },
 "nbformat": 4,
 "nbformat_minor": 5
}
