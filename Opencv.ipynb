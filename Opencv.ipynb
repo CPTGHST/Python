{
 "cells": [
  {
   "cell_type": "code",
   "execution_count": 1,
   "id": "810b62a8-3a5d-4188-9ddd-fc8837383db1",
   "metadata": {},
   "outputs": [],
   "source": [
    "import cv2"
   ]
  },
  {
   "cell_type": "code",
   "execution_count": 2,
   "id": "6bfe45b5-8247-4621-8baa-eb802ecd7c01",
   "metadata": {},
   "outputs": [
    {
     "name": "stdout",
     "output_type": "stream",
     "text": [
      " Volume in drive C has no label.\n",
      " Volume Serial Number is 347D-B417\n",
      "\n",
      " Directory of C:\\Notebook\n",
      "\n",
      "03.02.2025  20:50    <DIR>          .\n",
      "03.02.2025  20:50    <DIR>          ..\n",
      "03.02.2025  20:42    <DIR>          .ipynb_checkpoints\n",
      "03.02.2025  20:18            20.876 color.jpg\n",
      "03.02.2025  20:18            17.781 gray.jpg\n",
      "03.02.2025  20:50             8.778 Opencv.ipynb\n",
      "03.02.2025  20:18            21.084 rgb.jpg\n",
      "03.02.2025  18:55             9.400 terim.jpg\n",
      "03.02.2025  19:15        24.618.841 terimracon.mp4\n",
      "03.02.2025  20:51            13.846 terimracon1.avi\n",
      "03.02.2025  20:18            20.876 unchanged.jpg\n",
      "               8 File(s)     24.731.482 bytes\n",
      "               3 Dir(s)  134.848.819.200 bytes free\n"
     ]
    }
   ],
   "source": [
    "!dir "
   ]
  },
  {
   "cell_type": "code",
   "execution_count": 3,
   "id": "c100753a-fe8d-4c1c-ae4d-623121bdd93a",
   "metadata": {},
   "outputs": [],
   "source": [
    "arr = cv2.imread('terim.jpg')"
   ]
  },
  {
   "cell_type": "code",
   "execution_count": 4,
   "id": "91c20f3a-7c45-4392-bc24-766dba50f7a1",
   "metadata": {},
   "outputs": [],
   "source": [
    "cv2.imshow('Test',arr)\n",
    "cv2.waitKey(0)\n",
    "cv2.destroyAllWindows()"
   ]
  },
  {
   "cell_type": "code",
   "execution_count": 5,
   "id": "341a36b2-6fd4-442a-94eb-b08d2315d496",
   "metadata": {},
   "outputs": [
    {
     "data": {
      "text/plain": [
       "3"
      ]
     },
     "execution_count": 5,
     "metadata": {},
     "output_type": "execute_result"
    }
   ],
   "source": [
    "arr.ndim"
   ]
  },
  {
   "cell_type": "code",
   "execution_count": 6,
   "id": "a64631f8-99d1-4da7-8819-801d672cc5aa",
   "metadata": {},
   "outputs": [
    {
     "data": {
      "text/plain": [
       "(166, 303, 3)"
      ]
     },
     "execution_count": 6,
     "metadata": {},
     "output_type": "execute_result"
    }
   ],
   "source": [
    "arr.shape"
   ]
  },
  {
   "cell_type": "code",
   "execution_count": 7,
   "id": "fd9bed85-f158-4a3d-90fd-97d01571cb05",
   "metadata": {},
   "outputs": [
    {
     "data": {
      "text/plain": [
       "array([[55, 53, 54, ..., 51, 49, 47],\n",
       "       [62, 60, 62, ..., 38, 36, 35],\n",
       "       [70, 70, 71, ..., 36, 39, 43],\n",
       "       ...,\n",
       "       [ 3,  3,  3, ..., 54, 54, 55],\n",
       "       [ 4,  4,  3, ..., 51, 53, 52],\n",
       "       [ 4,  4,  4, ..., 40, 42, 45]], shape=(166, 303), dtype=uint8)"
      ]
     },
     "execution_count": 7,
     "metadata": {},
     "output_type": "execute_result"
    }
   ],
   "source": [
    "arr[:,:,0]"
   ]
  },
  {
   "cell_type": "code",
   "execution_count": 8,
   "id": "3c20e9d7-2ecc-4462-accc-a46c2d4879b1",
   "metadata": {},
   "outputs": [
    {
     "data": {
      "text/plain": [
       "array([[ 48,  46,  47, ...,  44,  42,  40],\n",
       "       [ 53,  51,  53, ...,  31,  29,  28],\n",
       "       [ 58,  58,  59, ...,  29,  32,  36],\n",
       "       ...,\n",
       "       [132, 132, 132, ..., 137, 136, 135],\n",
       "       [133, 133, 132, ..., 145, 145, 144],\n",
       "       [133, 133, 133, ..., 139, 141, 142]], shape=(166, 303), dtype=uint8)"
      ]
     },
     "execution_count": 8,
     "metadata": {},
     "output_type": "execute_result"
    }
   ],
   "source": [
    "arr2 = cv2.cvtColor(arr,cv2.COLOR_BGR2GRAY)\n",
    "arr2"
   ]
  },
  {
   "cell_type": "code",
   "execution_count": 9,
   "id": "05cd36a3-d49a-4768-b77e-80d4af763394",
   "metadata": {},
   "outputs": [
    {
     "data": {
      "text/plain": [
       "(166, 303)"
      ]
     },
     "execution_count": 9,
     "metadata": {},
     "output_type": "execute_result"
    }
   ],
   "source": [
    "arr2.shape"
   ]
  },
  {
   "cell_type": "code",
   "execution_count": 10,
   "id": "bf4a48ce-80c9-4c77-b3c5-c27a970ed9e5",
   "metadata": {},
   "outputs": [],
   "source": [
    "cv2.imshow('Test',arr2)\n",
    "cv2.waitKey(0)\n",
    "cv2.destroyAllWindows()"
   ]
  },
  {
   "cell_type": "code",
   "execution_count": 11,
   "id": "9a5c1018-c3d1-4339-a70a-884ae63895c6",
   "metadata": {},
   "outputs": [],
   "source": [
    "image = cv2.imread('terim.jpg',0)\n",
    "cv2.imshow('Test',image)\n",
    "cv2.waitKey(0)\n",
    "cv2.destroyAllWindows()"
   ]
  },
  {
   "cell_type": "code",
   "execution_count": 12,
   "id": "7c6ac977-7bea-4ccf-bf9e-b366b34b9c4d",
   "metadata": {},
   "outputs": [],
   "source": [
    "image_file = 'terim.jpg'\n",
    "img_color = cv2.imread(image_file, cv2.IMREAD_COLOR)\n",
    "img_gray = cv2.imread(image_file, cv2.IMREAD_GRAYSCALE)\n",
    "img_unchanged = cv2.imread(image_file, cv2.IMREAD_UNCHANGED)\n",
    "img_rgb = cv2.imread(image_file, cv2.IMREAD_COLOR_RGB)\n",
    "\n",
    "cv2.imshow('COLOR', img_color)\n",
    "cv2.imshow('GRAY', img_gray)\n",
    "cv2.imshow('UNCHANGED', img_unchanged)\n",
    "cv2.imshow('RGB', img_rgb)\n",
    " \n",
    "cv2.waitKey(0)\n",
    "cv2.destroyAllWindows()"
   ]
  },
  {
   "cell_type": "code",
   "execution_count": 13,
   "id": "80570f3e-6cb0-4dff-9593-b017e1877898",
   "metadata": {},
   "outputs": [
    {
     "data": {
      "text/plain": [
       "True"
      ]
     },
     "execution_count": 13,
     "metadata": {},
     "output_type": "execute_result"
    }
   ],
   "source": [
    "cv2.imwrite('color.jpg',img_color)\n",
    "cv2.imwrite('gray.jpg',img_gray)\n",
    "cv2.imwrite('unchanged.jpg',img_unchanged)\n",
    "cv2.imwrite('rgb.jpg',img_rgb)"
   ]
  },
  {
   "cell_type": "code",
   "execution_count": 14,
   "id": "8a77e1c3-cef9-466d-9511-53e7df1d1a9b",
   "metadata": {},
   "outputs": [
    {
     "name": "stdout",
     "output_type": "stream",
     "text": [
      "Dosya başarıyla açıldı\n",
      "FPS = 30.0\n",
      "FRAME COUNT = 4052.0\n",
      "FRAME WIDTH = 1280.0\n",
      "FRAME HEIGHT = 720.0\n"
     ]
    }
   ],
   "source": [
    "cap = cv2.VideoCapture('terimracon.mp4')\n",
    "if cap.isOpened():\n",
    "    print('Dosya başarıyla açıldı')\n",
    "\n",
    "print(f\"FPS = {cap.get(cv2.CAP_PROP_FPS)}\") #capture.get{5}\n",
    "print(f\"FRAME COUNT = {cap.get(cv2.CAP_PROP_FRAME_COUNT)}\")\n",
    "print(f\"FRAME WIDTH = {cap.get(cv2.CAP_PROP_FRAME_WIDTH)}\")\n",
    "print(f\"FRAME HEIGHT = {cap.get(cv2.CAP_PROP_FRAME_HEIGHT)}\")\n",
    "\n",
    "while True:\n",
    "    succes, frame = cap.read()\n",
    "\n",
    "    if succes == False:\n",
    "        break\n",
    "    cv2.imshow('Racon', frame)\n",
    "    key = cv2.waitKey(25)     \n",
    "    if key == ord('q'):\n",
    "        break\n",
    "cv2.destroyAllWindows()    \n",
    "cap.release()"
   ]
  },
  {
   "cell_type": "code",
   "execution_count": 16,
   "id": "705d7780-121f-406a-b135-e6b2d421361f",
   "metadata": {},
   "outputs": [],
   "source": [
    "import cv2\n",
    "cap = cv2.VideoCapture(\"terimracon.mp4\")\n",
    "\n",
    "fps = int(cap.get(cv2.CAP_PROP_FPS))\n",
    "width = int(cap.get(cv2.CAP_PROP_FRAME_WIDTH))\n",
    "height = int(cap.get(cv2.CAP_PROP_FRAME_HEIGHT))\n",
    "\n",
    "frame_size = (height,width)\n",
    "\n",
    "writer = cv2.VideoWriter(\"terimracon1.avi\",cv2.VideoWriter_fourcc(*\"MJPG\"),fps,frame_size)\n",
    "\n",
    "while True:\n",
    "    succes,frame = cap.read()\n",
    "    if not succes :\n",
    "        break\n",
    "\n",
    "    gray = cv2.cvtColor(frame, cv2.COLOR_BGR2GRAY)\n",
    "    cv2.imshow(\"Gray\",gray)\n",
    "    key = cv2.waitKey(5)\n",
    "    if key == 27:\n",
    "        break\n",
    "    writer.write(gray)\n",
    "\n",
    "cap.release()\n",
    "writer.release()\n",
    "cv2.destroyAllWindows()\n"
   ]
  },
  {
   "cell_type": "code",
   "execution_count": null,
   "id": "1783889c-5d72-45bf-949e-89f98a15fcd9",
   "metadata": {},
   "outputs": [],
   "source": []
  }
 ],
 "metadata": {
  "kernelspec": {
   "display_name": "Python 3 (ipykernel)",
   "language": "python",
   "name": "python3"
  },
  "language_info": {
   "codemirror_mode": {
    "name": "ipython",
    "version": 3
   },
   "file_extension": ".py",
   "mimetype": "text/x-python",
   "name": "python",
   "nbconvert_exporter": "python",
   "pygments_lexer": "ipython3",
   "version": "3.13.1"
  }
 },
 "nbformat": 4,
 "nbformat_minor": 5
}
