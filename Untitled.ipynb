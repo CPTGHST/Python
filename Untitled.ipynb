{
 "cells": [
  {
   "cell_type": "markdown",
   "id": "ff51761d-9308-4109-a99a-eff36efd5005",
   "metadata": {},
   "source": [
    "**Görev Olusturma**\n"
   ]
  },
  {
   "cell_type": "markdown",
   "id": "e5d717e7-f179-4062-bd44-d288232db5fa",
   "metadata": {
    "scrolled": true
   },
   "source": [
    "**Satir içi Seçme**\n",
    "\n",
    "Hayatta en hakiki mursit \"ilim\"dir."
   ]
  },
  {
   "cell_type": "markdown",
   "id": "9a3934c3-2264-425c-9545-0d4598f9fce5",
   "metadata": {},
   "source": [
    "***Latex Kullanimi**\n",
    "\n",
    "$\\sum_1^{100} x^2+1$"
   ]
  },
  {
   "cell_type": "code",
   "execution_count": null,
   "id": "e1845c97-bf9b-4dcd-a5dd-dc4281782aab",
   "metadata": {},
   "outputs": [],
   "source": []
  }
 ],
 "metadata": {
  "kernelspec": {
   "display_name": "Python 3 (ipykernel)",
   "language": "python",
   "name": "python3"
  },
  "language_info": {
   "codemirror_mode": {
    "name": "ipython",
    "version": 3
   },
   "file_extension": ".py",
   "mimetype": "text/x-python",
   "name": "python",
   "nbconvert_exporter": "python",
   "pygments_lexer": "ipython3",
   "version": "3.12.6"
  }
 },
 "nbformat": 4,
 "nbformat_minor": 5
}
